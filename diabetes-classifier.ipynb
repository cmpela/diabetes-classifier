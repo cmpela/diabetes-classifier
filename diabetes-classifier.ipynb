{
 "cells": [
  {
   "cell_type": "code",
   "execution_count": 1,
   "id": "ce947894-91a9-43df-8065-be8bb28d0e51",
   "metadata": {},
   "outputs": [],
   "source": [
    "import pandas as pd"
   ]
  },
  {
   "cell_type": "code",
   "execution_count": 4,
   "id": "2ff497a6-8518-4e20-b1d9-a492b28a4e7a",
   "metadata": {},
   "outputs": [],
   "source": [
    "df = pd.read_csv(\"./diabetes/diabetes_012_health_indicators_BRFSS2015.csv\")"
   ]
  },
  {
   "cell_type": "code",
   "execution_count": 26,
   "id": "8d6ca67a-cd7c-4da7-abf7-228ca13b2846",
   "metadata": {},
   "outputs": [
    {
     "data": {
      "text/plain": [
       "['Diabetes_012',\n",
       " 'HighBP',\n",
       " 'HighChol',\n",
       " 'CholCheck',\n",
       " 'BMI',\n",
       " 'Smoker',\n",
       " 'Stroke',\n",
       " 'HeartDiseaseorAttack',\n",
       " 'PhysActivity',\n",
       " 'Fruits',\n",
       " 'Veggies',\n",
       " 'HvyAlcoholConsump',\n",
       " 'AnyHealthcare',\n",
       " 'NoDocbcCost',\n",
       " 'GenHlth',\n",
       " 'MentHlth',\n",
       " 'PhysHlth',\n",
       " 'DiffWalk',\n",
       " 'Sex',\n",
       " 'Age',\n",
       " 'Education',\n",
       " 'Income']"
      ]
     },
     "execution_count": 26,
     "metadata": {},
     "output_type": "execute_result"
    }
   ],
   "source": [
    "df.columns.to_list()"
   ]
  },
  {
   "cell_type": "markdown",
   "id": "34bc6de8-a443-4401-8f77-c3ea95dac4ad",
   "metadata": {},
   "source": [
    "## Data Catalog\n",
    "\n",
    "- ``Diabetes_012`` - Our target. 0 = no diabetes; 1 = prediabetes; 2 = diabetes\n",
    "- ``HigBP`` - High Blood Presure. 0 = no HighBP; 1 = HighBP\n",
    "- ``HighChol`` - High Cholesterol. 0 = no HighChol; 1 = HighChol\n",
    "- ``CholCheck`` - Cholesterol Check in the last 5 years. 0 = no cholesterol check; 1 = yes cholesterol check\n",
    "- ``BMI`` - Body Mass Index. [More info](https://en.wikipedia.org/wiki/Body_mass_index)\n",
    "- ``Smoker`` - Indicates if the person have smoked at least 100 cigarrets in your entire life. 0 = no; 1 = yes\n",
    "- ``Stroke`` - Have ever had a stroke. 0 = no; 1 = yes\n",
    "- ``HeartDiseaseorAttack`` - Have ever had a heart disease or attack. Coronary hear disease or myocardial infraction. 0 = no; 1 = yes\n",
    "- ``PhysActivity`` - Have praticed physical activity in past 30 days (not including job). 0 = no; 1 = yes\n",
    "- ``Fruits`` - Have consumed fruit 1 or more times per day. 0 = no; 1 = yes\n",
    "- ``Veggies`` - Have consumed vegetables 1 or more times per day. 0 = no; 1 = yes\n",
    "- ``HvyAlcoholConsump`` - If men having more than 14 drinks per week or if women having more than 7 drinks per week. 0 = no; 1 = yes\n",
    "- ``AnyHealthcare`` - Have any kind of health care coverage. 0 = no; 1 = yes\n",
    "- ``NoDocbcCost`` - Was there a time on the past 12 years when you nedded to see a doctor but could not because of cost. 0 = no; 1 = yes\n",
    "- ``GenHlth`` - Would you say that in general your health in a scale between 0 to 5 is. 1 = excellent; 2 = very good; 3 = good; 4 = fair; 5 = poor\n",
    "- ``MentHlth`` - How do you classify your mental health? \n",
    "- ``PhysHlth`` - Now thinking about your physical health, which includes physical illness and injury, for how many days during the past 30 days was your physical\n",
    "- ``DiffWalk`` - Do you have serious difficulty walking or climbing stairs? 0 = no; 1 = yes\n",
    "- ``Sex`` - 0 = female; 1 = male\n",
    "- ``Age`` - 1 = 18-24; 2 = 25-29; 3 = 30-34; 4 = 35-39; 5 = 40-44; 6 = 45-49; 7 = 50-54; 8 = 55-59; 9 = 60-64; 10 = 65-69; 11 = 70-74; 12 = 75-79; 13 = 80 or older\n",
    "- ``Education`` - 1 = Never attended school; 2 = Elementary school; 3 = High school incomplete; 4 = High school graduate; 5 = Some college or technical school; 6 = College graduate; 9 = refused to answer"
   ]
  }
 ],
 "metadata": {
  "kernelspec": {
   "display_name": "Python 3 (ipykernel)",
   "language": "python",
   "name": "python3"
  },
  "language_info": {
   "codemirror_mode": {
    "name": "ipython",
    "version": 3
   },
   "file_extension": ".py",
   "mimetype": "text/x-python",
   "name": "python",
   "nbconvert_exporter": "python",
   "pygments_lexer": "ipython3",
   "version": "3.10.4"
  }
 },
 "nbformat": 4,
 "nbformat_minor": 5
}
